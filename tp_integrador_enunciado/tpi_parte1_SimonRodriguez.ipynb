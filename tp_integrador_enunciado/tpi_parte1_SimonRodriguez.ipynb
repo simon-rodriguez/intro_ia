{
  "cells": [
    {
      "attachments": {},
      "cell_type": "markdown",
      "id": "07289bb0",
      "metadata": {},
      "source": [
        "# Trabajo integrador - Parte 1\n",
        "## Python y Numpy\n",
        "\n",
        "**Nombre**: Simon Rodriguez"
      ]
    },
    {
      "cell_type": "code",
      "execution_count": 2,
      "id": "aaf94e0a",
      "metadata": {
        "id": "aaf94e0a"
      },
      "outputs": [],
      "source": [
        "import numpy as np"
      ]
    },
    {
      "attachments": {},
      "cell_type": "markdown",
      "id": "0ffe9554",
      "metadata": {},
      "source": [
        "## Ejercicio 1\n",
        "\n",
        "Dada una matriz en formato *numpy array*, donde cada fila de la matriz representa un vector matemático, se requiere computar las normas $l_0$, $l_1$, $l_2$, $l_{\\infty}$, según la siguientes definiciones:\n",
        "\n",
        "\\begin{equation}\n",
        "    ||\\mathbf{x}||^{p} = \\bigg(\\sum_{j=1}^{n}{|x_i|^p}\\bigg)^{\\frac{1}{p}}\n",
        "\\end{equation}\n",
        "\n",
        "con los casos especiales para $p=0$ y $p=\\infty$ siendo:\n",
        "\n",
        "\\begin{equation}\n",
        "    \\begin{array}{rcl}\n",
        "        ||\\mathbf{x}||_0 & = & \\bigg(\\sum_{j=1 \\wedge x_j != 0}{|x_i|}\\bigg)\\\\\n",
        "        ||\\mathbf{x}||_{\\infty} & = & \\max_{i}{|x_i|}\\\\\n",
        "    \\end{array}\n",
        "\\end{equation}"
      ]
    },
    {
      "cell_type": "code",
      "execution_count": 3,
      "id": "0bdb0ee3",
      "metadata": {},
      "outputs": [
        {
          "data": {
            "text/plain": [
              "array([[1, 2, 3],\n",
              "       [4, 5, 6],\n",
              "       [7, 8, 9]])"
            ]
          },
          "execution_count": 3,
          "metadata": {},
          "output_type": "execute_result"
        }
      ],
      "source": [
        "# Se crea la matriz en formato numpy array, donde cada fila es un vector:\n",
        "m = np.arange(1,10).reshape(3,3)\n",
        "m"
      ]
    },
    {
      "cell_type": "code",
      "execution_count": 4,
      "id": "0ab651c7",
      "metadata": {},
      "outputs": [
        {
          "name": "stdout",
          "output_type": "stream",
          "text": [
            "La norma l0 es:  [3. 3. 3.]\n",
            "La norma l1 es:  [ 6. 15. 24.]\n",
            "La norma l2 es:  [ 3.74165739  8.77496439 13.92838828]\n",
            "La norma l infinito es:  [3. 6. 9.]\n"
          ]
        }
      ],
      "source": [
        "# Se puede usar una función de álgebra lineal de Numpy para calcular las normas de los vectores:\n",
        "\n",
        "l0 = np.linalg.norm(m, ord=0, axis=1)\n",
        "l1 = np.linalg.norm(m, ord=1, axis=1)\n",
        "l2 = np.linalg.norm(m, ord=2, axis=1)\n",
        "li = np.linalg.norm(m, ord=np.inf, axis=1)\n",
        "\n",
        "print('La norma l0 es: ', l0)\n",
        "print('La norma l1 es: ', l1)\n",
        "print('La norma l2 es: ', l2)\n",
        "print('La norma l infinito es: ', li)"
      ]
    },
    {
      "attachments": {},
      "cell_type": "markdown",
      "id": "dd66d862",
      "metadata": {},
      "source": [
        "## Ejercicio 2\n",
        "\n",
        "En clasificación contamos con dos arreglos, la “verdad” y la “predicción”. Cada elemento de los arreglos pueden tomar dos valores, “True” (representado por 1) y “False” (representado por 0). Entonces podemos definir 4 variables:\n",
        "\n",
        "* True Positive (TP): El valor verdadero es 1 y el valor predicho es 1\n",
        "* True Negative (TN): El valor verdadero es 0 y el valor predicho es 0\n",
        "* False Positive (FP): El valor verdadero es 0 y el valor predicho es 1\n",
        "* False Negative (FN): El valor verdadero es 1 y el valor predicho es 0\n",
        "\n",
        "A partir de esto definimos:\n",
        "\n",
        "* Precision = TP / (TP + FP)\n",
        "* Recall = TP / (TP + FN)\n",
        "* Accuracy = (TP + TN) / (TP + TN + FP + FN)\n",
        " \n",
        "Calcular las 3 métricas con Numpy y operaciones vectorizadas."
      ]
    },
    {
      "cell_type": "code",
      "execution_count": 5,
      "id": "794dcd58",
      "metadata": {},
      "outputs": [
        {
          "name": "stdout",
          "output_type": "stream",
          "text": [
            "La precisión del modelo es:  0.5\n",
            "El Recall (exhaustividad) del modelo es:  0.5\n",
            "La Accuracy (exactitud) del modelo es:  0.4\n"
          ]
        }
      ],
      "source": [
        "truth = np.array([1,1,0,1,1,1,0,0,0,1])\n",
        "prediction = np.array([1,1,1,1,0,0,1,1,0,0])\n",
        "\n",
        "# Creamos una matriz de confusion\n",
        "#   | 1  | 0\n",
        "# 1 | TP | FP\n",
        "# 0 | FN | TN\n",
        "\n",
        "# TP (1,1)\n",
        "# FP (1,0)\n",
        "# FN (0,1)\n",
        "# TN (0,0)\n",
        "\n",
        "cm = np.array([0,0,0,0]).reshape(2,2)\n",
        "np.add.at(cm, (prediction, truth), 1)\n",
        "\n",
        "TP = cm[1,1]\n",
        "FP = cm[1,0]\n",
        "FN = cm[0,1]\n",
        "TN = cm[0,0]\n",
        "\n",
        "Precision = TP / (TP + FP)\n",
        "Recall = TP / (TP + FN)\n",
        "Accuracy = (TP + TN) / (TP + TN + FP + FN)\n",
        "\n",
        "print('La precisión del modelo es: ', Precision)\n",
        "print('El Recall (exhaustividad) del modelo es: ', Recall)\n",
        "print('La Accuracy (exactitud) del modelo es: ', Accuracy)"
      ]
    },
    {
      "attachments": {},
      "cell_type": "markdown",
      "id": "d0ac6f6f",
      "metadata": {},
      "source": [
        "## Ejercicio 3\n",
        "\n",
        "Crear una función que separe los datos en train-validation-test. Debe recibir de parametros:\n",
        "\n",
        "- X: Array o Dataframe que contiene los datos de entrada del sistema.\n",
        "- y: Array o Dataframe que contiene la(s) variable(s) target del problema.\n",
        "- train_percentage: _float_ el porcentaje de training.\n",
        "- test_percentage: _float_ el porcentaje de testing.\n",
        "- val_percentage: _float_ el porcentaje de validación.\n",
        "- shuffle: _bool_ determina si el split debe hacerse de manera random o no.\n",
        "\n",
        "Hints: \n",
        "\n",
        "* Usar Indexing y slicing\n",
        "* Usar np.random.[...]"
      ]
    },
    {
      "cell_type": "code",
      "execution_count": 11,
      "id": "ca85fc66",
      "metadata": {},
      "outputs": [],
      "source": [
        "# Crear datos de ejemplo\n",
        "num_samples = 10\n",
        "num_features = 5\n",
        "X = np.random.rand(num_samples, num_features)\n",
        "y = np.random.randint(2, size=num_samples)  # Datos de ejemplo para la variable target\n",
        "\n",
        "def split(X_input, \n",
        "          y_input,\n",
        "          train_percentage=0.7,\n",
        "          val_percentage=0.15, #no se usa, se calcula con train y test\n",
        "          test_percentage=0.15,\n",
        "          random_state=42,\n",
        "          shuffle=True):\n",
        "\n",
        "    total_samples = len(X_input)\n",
        "\n",
        "    if shuffle:\n",
        "        np.random.seed(random_state)\n",
        "        indices = np.random.permutation(total_samples)\n",
        "    else:\n",
        "        indices = np.arange(total_samples)\n",
        "\n",
        "    train_size = int(total_samples * train_percentage)\n",
        "    test_size = int(total_samples * test_percentage)\n",
        "    val_size = total_samples - train_size - test_size #Sirve de chequeo, pero no se usa porque es el resto despues de train y test.\n",
        "\n",
        "    train_indices = indices[:train_size]\n",
        "    test_indices = indices[train_size:train_size + test_size]\n",
        "    val_indices = indices[train_size + test_size:]\n",
        "\n",
        "    X_train, y_train = X_input[train_indices], y_input[train_indices]\n",
        "    X_test, y_test = X_input[test_indices], y_input[test_indices]\n",
        "    X_val, y_val = X_input[val_indices], y_input[val_indices]\n",
        "\n",
        "    return X_train, y_train, X_test, y_test, X_val, y_val\n",
        "\n",
        "# Dividir los datos de ejemplo\n",
        "X_train, y_train, X_test, y_test, X_val, y_val = split(X, y, train_percentage=0.7, test_percentage=0.15, val_percentage=0.15, random_state=42, shuffle=True)"
      ]
    },
    {
      "cell_type": "code",
      "execution_count": 12,
      "id": "59a0fc8b",
      "metadata": {},
      "outputs": [
        {
          "name": "stdout",
          "output_type": "stream",
          "text": [
            "X Train: [[0.29563369 0.10549426 0.45653457 0.21844044 0.41650995]\n",
            " [0.65107703 0.91495968 0.85003858 0.44945067 0.09541012]\n",
            " [0.4393365  0.2017192  0.8957636  0.47537022 0.56327557]\n",
            " [0.1988424  0.71134195 0.79017554 0.60595997 0.92630088]\n",
            " [0.94285357 0.59886547 0.69478493 0.88046784 0.62435405]\n",
            " [0.37081825 0.66884125 0.66592236 0.59129779 0.27472179]\n",
            " [0.88328026 0.32434502 0.12208795 0.35629784 0.90682844]]\n",
            "y Train: [0 0 1 0 0 0 0]\n",
            "X Test: [[0.23598492 0.25606832 0.04043359 0.71066289 0.11089082]]\n",
            "y Test: [0]\n",
            "X val: [[0.56124343 0.38292687 0.9717121  0.84891382 0.72172952]\n",
            " [0.69551609 0.13933145 0.60441738 0.53984109 0.20306122]]\n",
            "y val: [1 0]\n"
          ]
        }
      ],
      "source": [
        "print(\"X Train:\", X_train)\n",
        "print(\"y Train:\", y_train)\n",
        "print(\"X Test:\", X_test)\n",
        "print(\"y Test:\", y_test)\n",
        "print(\"X val:\", X_val)\n",
        "print(\"y val:\", y_val)\n"
      ]
    }
  ],
  "metadata": {
    "colab": {
      "collapsed_sections": [],
      "name": "Practica_clase_3.ipynb",
      "provenance": []
    },
    "kernelspec": {
      "display_name": "Python 3.10.7 64-bit",
      "language": "python",
      "name": "python3"
    },
    "language_info": {
      "codemirror_mode": {
        "name": "ipython",
        "version": 3
      },
      "file_extension": ".py",
      "mimetype": "text/x-python",
      "name": "python",
      "nbconvert_exporter": "python",
      "pygments_lexer": "ipython3",
      "version": "3.11.4"
    },
    "vscode": {
      "interpreter": {
        "hash": "b5c22da4a52024410f64f9c5a5e2b4ffeeb944a5ed00e8825a42174cdab30315"
      }
    }
  },
  "nbformat": 4,
  "nbformat_minor": 5
}
